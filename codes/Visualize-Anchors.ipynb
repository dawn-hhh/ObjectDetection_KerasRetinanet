{
 "cells": [
  {
   "cell_type": "markdown",
   "metadata": {},
   "source": [
    "## Imports"
   ]
  },
  {
   "cell_type": "code",
   "execution_count": null,
   "metadata": {},
   "outputs": [],
   "source": [
    "import keras\n",
    "import numpy as np\n",
    "import cv2\n",
    "import math\n",
    "from matplotlib import pyplot as plt\n",
    "from keras_retinanet.utils.anchors import anchors_for_shape, compute_gt_annotations, AnchorParameters\n",
    "from keras_retinanet.utils.visualization import draw_annotations, draw_caption_debug, draw_boxes, draw_box\n",
    "from keras_retinanet.utils.colors import label_color"
   ]
  },
  {
   "cell_type": "markdown",
   "metadata": {},
   "source": [
    "## Define Utility Functions"
   ]
  },
  {
   "cell_type": "code",
   "execution_count": null,
   "metadata": {},
   "outputs": [],
   "source": [
    "def draw_caption2(image, box, caption):\n",
    "    \"\"\" Draws a caption above the box in an image.\n",
    "\n",
    "    # Arguments\n",
    "        image   : The image to draw on.\n",
    "        box     : A list of 4 elements (x1, y1, x2, y2).\n",
    "        caption : String containing the text to draw.\n",
    "    \"\"\"\n",
    "    b = np.array(box).astype(int)\n",
    "    cv2.putText(image, caption, (b[0], b[1] - 10), cv2.FONT_HERSHEY_PLAIN, 2, (0, 0, 0), 5, lineType=cv2.LINE_AA)\n",
    "    cv2.putText(image, caption, (b[0], b[1] - 10), cv2.FONT_HERSHEY_PLAIN, 2, (255, 0, 0), 3, lineType=cv2.LINE_AA)\n",
    "    \n",
    "def draw_caption3(image, box, caption):\n",
    "    \"\"\" Draws a caption above the box in an image.\n",
    "\n",
    "    # Arguments\n",
    "        image   : The image to draw on.\n",
    "        box     : A list of 4 elements (x1, y1, x2, y2).\n",
    "        caption : String containing the text to draw.\n",
    "    \"\"\"\n",
    "    b = np.array(box).astype(int)\n",
    "    cv2.putText(image, caption, (b[0], b[1] - 10), cv2.FONT_HERSHEY_PLAIN, 5, (0, 0, 0), 5, lineType=cv2.LINE_AA)\n",
    "    cv2.putText(image, caption, (b[0], b[1] - 10), cv2.FONT_HERSHEY_PLAIN, 5, (255, 0, 0), 3, lineType=cv2.LINE_AA)"
   ]
  },
  {
   "cell_type": "markdown",
   "metadata": {},
   "source": [
    "## Setup Anchors"
   ]
  },
  {
   "cell_type": "code",
   "execution_count": null,
   "metadata": {},
   "outputs": [],
   "source": [
    "#Default Anchor Settings:\n",
    "# sizes   = [32, 64, 128, 256, 512]\n",
    "# strides = [8, 16, 32, 64, 128]\n",
    "# ratios  = np.array([0.5, 1, 2], keras.backend.floatx())\n",
    "# scales  = np.array([2 ** 0, 2 ** (1.0 / 3.0), 2 ** (2.0 / 3.0)])"
   ]
  },
  {
   "cell_type": "code",
   "execution_count": null,
   "metadata": {},
   "outputs": [],
   "source": [
    "#Customized Anchor Settings:\n",
    "sizes   = [32, 64, 128, 256, 512]\n",
    "strides = [8, 16, 32, 64, 128]\n",
    "ratios  = np.array([0.5, 1, 2], keras.backend.floatx())\n",
    "scales  = np.array([2 ** 0, 2 ** (1.0 / 3.0), 2 ** (2.0 / 3.0)])"
   ]
  },
  {
   "cell_type": "code",
   "execution_count": null,
   "metadata": {},
   "outputs": [],
   "source": [
    "config = [ratios,scales,sizes,strides] #uncomment to setup anchors\n",
    "#config = None"
   ]
  },
  {
   "cell_type": "markdown",
   "metadata": {},
   "source": [
    "## Visualize Anchors"
   ]
  },
  {
   "cell_type": "code",
   "execution_count": null,
   "metadata": {},
   "outputs": [],
   "source": [
    "#input image shape\n",
    "image = np.ones([800, 800, 3])\n",
    "image = (image*255).astype('uint8')"
   ]
  },
  {
   "cell_type": "code",
   "execution_count": null,
   "metadata": {},
   "outputs": [],
   "source": [
    "ratios,scales,sizes,strides = config\n",
    "anchor_params = AnchorParameters(sizes, strides, ratios, scales)\n",
    "anchors = anchors_for_shape(image.shape, anchor_params=anchor_params)"
   ]
  },
  {
   "cell_type": "code",
   "execution_count": null,
   "metadata": {},
   "outputs": [],
   "source": [
    "anchors.shape"
   ]
  },
  {
   "cell_type": "code",
   "execution_count": null,
   "metadata": {},
   "outputs": [],
   "source": [
    "x = 119646+24*9\n",
    "#draw_boxes(image, anchors[x:x+9], (255, 255, 255), thickness=3)\n",
    "\n",
    "for idx,box in enumerate(anchors[x:x+9]):\n",
    "    color = label_color(idx)\n",
    "    b = box.astype(int)\n",
    "    draw_box(image, b, color=color, thickness=3)\n",
    "    draw_caption2(image, b, str(idx+1), )\n",
    "    \n",
    "plt.figure(figsize=(10, 10))\n",
    "plt.axis('off')\n",
    "plt.imshow(image)\n",
    "plt.show()"
   ]
  },
  {
   "cell_type": "markdown",
   "metadata": {},
   "source": [
    "## Version 2.0"
   ]
  },
  {
   "cell_type": "code",
   "execution_count": null,
   "metadata": {},
   "outputs": [],
   "source": [
    "offset = 600\n",
    "height = image.shape[0]\n",
    "width = image.shape[1]"
   ]
  },
  {
   "cell_type": "code",
   "execution_count": null,
   "metadata": {},
   "outputs": [],
   "source": [
    "image2 = np.ones([2000, 2000, 3])\n",
    "image2 = (image2*255).astype('uint8')\n",
    "draw_box(image2, [offset,offset,offset+width-1,offset+height-1], color=[0,0,0], thickness=-1)\n",
    "\n",
    "for idx,box in enumerate(anchors[x:x+9]):\n",
    "    color = label_color((idx)//3+10)\n",
    "    b = box.astype(int)\n",
    "    b = b+offset\n",
    "    draw_box(image2, b, color=color, thickness=3)\n",
    "    \n",
    "for idx,box in enumerate(anchors[x:x+9]):\n",
    "    b = box.astype(int)\n",
    "    b = b+offset\n",
    "    draw_caption3(image2, b, str(idx+1), )\n",
    "\n",
    "plt.figure(figsize=(10, 10))\n",
    "plt.axis('off')\n",
    "plt.imshow(image2)\n",
    "plt.show()"
   ]
  },
  {
   "cell_type": "markdown",
   "metadata": {},
   "source": [
    "## Version 3.0"
   ]
  },
  {
   "cell_type": "code",
   "execution_count": null,
   "metadata": {},
   "outputs": [],
   "source": [
    "pyramid_levels = [3,4,5,6,7]\n",
    "num_anchors_at_loc = len(ratios)*len(scales)\n",
    "num_locs_at_level = []\n",
    "num_anchors_at_level = []\n",
    "\n",
    "for i in range(len(pyramid_levels)):\n",
    "    level = pyramid_levels[i]\n",
    "    stride = 2**level\n",
    "    num_locs_at_level.append(math.floor((width+stride-1)/stride)*(math.floor((height+stride-1)/stride)))\n",
    "    num_anchors_at_level.append(num_locs_at_level[i]*num_anchors_at_loc)\n",
    "    #print(num_locs_at_level[i])\n",
    "    #print(num_anchors_at_level[i])"
   ]
  },
  {
   "cell_type": "code",
   "execution_count": null,
   "metadata": {},
   "outputs": [],
   "source": [
    "num_locs_at_level"
   ]
  },
  {
   "cell_type": "code",
   "execution_count": null,
   "metadata": {},
   "outputs": [],
   "source": [
    "num_anchors_at_level"
   ]
  },
  {
   "cell_type": "code",
   "execution_count": null,
   "metadata": {},
   "outputs": [],
   "source": [
    "for idx in range(5):\n",
    "    plot_level = idx+1\n",
    "    print('Pyramid level {}'.format(plot_level))\n",
    "    y = sum(num_anchors_at_level[:plot_level-1])+(num_locs_at_level[plot_level-1]//2)*num_anchors_at_loc\n",
    "    print('{} anchors'.format(num_anchors_at_level[idx]))\n",
    "    \n",
    "    offset = 600\n",
    "    height = image.shape[0]\n",
    "    width = image.shape[1]\n",
    "\n",
    "    image3 = np.ones([2000, 2000, 3])\n",
    "    image3 = (image3*255).astype('uint8')\n",
    "    draw_box(image3, [offset,offset,offset+width-1,offset+height-1], color=[0,0,0], thickness=-1)\n",
    "\n",
    "    for idx,box in enumerate(anchors[y:y+num_anchors_at_loc]):\n",
    "        color = label_color((idx)//3+10)\n",
    "        b = box.astype(int)\n",
    "        b = b+offset\n",
    "        draw_box(image3, b, color=color, thickness=3)\n",
    "\n",
    "    for idx,box in enumerate(anchors[y:y+num_anchors_at_loc]):\n",
    "        b = box.astype(int)\n",
    "        b = b+offset\n",
    "        draw_caption3(image3, b, str(idx+1), )\n",
    "\n",
    "    plt.figure(figsize=(10, 10))\n",
    "    plt.axis('off')\n",
    "    plt.imshow(image3)\n",
    "    plt.show()"
   ]
  },
  {
   "cell_type": "markdown",
   "metadata": {},
   "source": [
    "## End"
   ]
  }
 ],
 "metadata": {
  "kernelspec": {
   "display_name": "Python 3",
   "language": "python",
   "name": "python3"
  },
  "language_info": {
   "codemirror_mode": {
    "name": "ipython",
    "version": 3
   },
   "file_extension": ".py",
   "mimetype": "text/x-python",
   "name": "python",
   "nbconvert_exporter": "python",
   "pygments_lexer": "ipython3",
   "version": "3.6.5"
  },
  "toc": {
   "base_numbering": 1,
   "nav_menu": {},
   "number_sections": false,
   "sideBar": true,
   "skip_h1_title": false,
   "title_cell": "Table of Contents",
   "title_sidebar": "Contents",
   "toc_cell": false,
   "toc_position": {},
   "toc_section_display": true,
   "toc_window_display": true
  }
 },
 "nbformat": 4,
 "nbformat_minor": 2
}
