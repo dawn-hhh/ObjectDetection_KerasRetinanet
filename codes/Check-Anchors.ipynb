{
 "cells": [
  {
   "cell_type": "markdown",
   "metadata": {},
   "source": [
    "## Imports"
   ]
  },
  {
   "cell_type": "code",
   "execution_count": null,
   "metadata": {},
   "outputs": [],
   "source": [
    "import argparse\n",
    "import os\n",
    "import sys\n",
    "import cv2\n",
    "import matplotlib.pyplot as plt\n",
    "import keras"
   ]
  },
  {
   "cell_type": "code",
   "execution_count": null,
   "metadata": {},
   "outputs": [],
   "source": [
    "from keras_retinanet.preprocessing.pascal_voc import PascalVocGenerator\n",
    "from keras_retinanet.preprocessing.csv_generator import CSVGenerator\n",
    "from keras_retinanet.preprocessing.kitti import KittiGenerator\n",
    "from keras_retinanet.preprocessing.open_images import OpenImagesGenerator\n",
    "from keras_retinanet.utils.keras_version import check_keras_version\n",
    "from keras_retinanet.utils.transform import random_transform_generator\n",
    "from keras_retinanet.utils.visualization import draw_annotations, draw_boxes\n",
    "from keras_retinanet.utils.anchors import anchors_for_shape, compute_gt_annotations, AnchorParameters\n",
    "from keras_retinanet.utils.config import read_config_file, parse_anchor_parameters"
   ]
  },
  {
   "cell_type": "markdown",
   "metadata": {},
   "source": [
    "## Define Utility Functions"
   ]
  },
  {
   "cell_type": "code",
   "execution_count": null,
   "metadata": {},
   "outputs": [],
   "source": [
    "def create_generator(dataset_type, annotations, classes, image_min_side, image_max_side, config):\n",
    "    \"\"\" Create the data generators.\n",
    "\n",
    "    Args:\n",
    "        args: parseargs arguments object.\n",
    "    \"\"\"\n",
    "    # create random transform generator for augmenting training data\n",
    "    transform_generator = random_transform_generator(\n",
    "        min_rotation=-0.1,\n",
    "        max_rotation=0.1,\n",
    "        min_translation=(-0.1, -0.1),\n",
    "        max_translation=(0.1, 0.1),\n",
    "        min_shear=-0.1,\n",
    "        max_shear=0.1,\n",
    "        min_scaling=(0.9, 0.9),\n",
    "        max_scaling=(1.1, 1.1),\n",
    "        flip_x_chance=0.5,\n",
    "        flip_y_chance=0.5,\n",
    "    )\n",
    "\n",
    "    if dataset_type == 'coco':\n",
    "        # import here to prevent unnecessary dependency on cocoapi\n",
    "        from ..preprocessing.coco import CocoGenerator\n",
    "\n",
    "        generator = CocoGenerator(\n",
    "            args.coco_path,\n",
    "            args.coco_set,\n",
    "            transform_generator=transform_generator,\n",
    "            image_min_side=args.image_min_side,\n",
    "            image_max_side=args.image_max_side,\n",
    "            config=args.config\n",
    "        )\n",
    "    elif dataset_type == 'pascal':\n",
    "        generator = PascalVocGenerator(\n",
    "            args.pascal_path,\n",
    "            args.pascal_set,\n",
    "            transform_generator=transform_generator,\n",
    "            image_min_side=args.image_min_side,\n",
    "            image_max_side=args.image_max_side,\n",
    "            config=args.config\n",
    "        )\n",
    "    elif dataset_type == 'csv':\n",
    "        generator = CSVGenerator(\n",
    "            annotations,\n",
    "            classes,\n",
    "            transform_generator=transform_generator,\n",
    "            image_min_side=image_min_side,\n",
    "            image_max_side=image_max_side,\n",
    "            config=config\n",
    "        )\n",
    "    elif args.dataset_type == 'oid':\n",
    "        generator = OpenImagesGenerator(\n",
    "            args.main_dir,\n",
    "            subset=args.subset,\n",
    "            version=args.version,\n",
    "            labels_filter=args.labels_filter,\n",
    "            parent_label=args.parent_label,\n",
    "            annotation_cache_dir=args.annotation_cache_dir,\n",
    "            transform_generator=transform_generator,\n",
    "            image_min_side=args.image_min_side,\n",
    "            image_max_side=args.image_max_side,\n",
    "            config=args.config\n",
    "        )\n",
    "    elif args.dataset_type == 'kitti':\n",
    "        generator = KittiGenerator(\n",
    "            args.kitti_path,\n",
    "            subset=args.subset,\n",
    "            transform_generator=transform_generator,\n",
    "            image_min_side=args.image_min_side,\n",
    "            image_max_side=args.image_max_side,\n",
    "            config=args.config\n",
    "        )\n",
    "    else:\n",
    "        raise ValueError('Invalid data type received: {}'.format(dataset_type))\n",
    "\n",
    "    return generator\n",
    "\n",
    "def run(generator, random_transform, resize, draw_anchors, to_draw_annotations, anchor_params):\n",
    "    \"\"\" Main loop.\n",
    "\n",
    "    Args\n",
    "        generator: The generator to debug.\n",
    "        args: parseargs args object.\n",
    "    \"\"\"\n",
    "    # display images, one at a time\n",
    "    #for i in range(generator.size()):\n",
    "    for i in range(200):\n",
    "        # load the data\n",
    "        image = generator.load_image(i)\n",
    "        image = cv2.cvtColor(image, cv2.COLOR_BGR2RGB)\n",
    "        annotations = generator.load_annotations(i)\n",
    "        if len(annotations['labels']) > 0 :\n",
    "            # apply random transformations\n",
    "#             if random_transform:\n",
    "#                 image, annotations = generator.random_transform_group_entry(image, annotations)\n",
    "            \n",
    "            # resize the image and annotations\n",
    "            if resize:\n",
    "                image, image_scale = generator.resize_image(image)\n",
    "                annotations['bboxes'] *= image_scale\n",
    "\n",
    "            anchors = anchors_for_shape(image.shape, anchor_params=anchor_params)\n",
    "            positive_indices, _, max_indices = compute_gt_annotations(anchors, annotations['bboxes'])\n",
    "\n",
    "            # draw anchors on the image\n",
    "            if draw_anchors:\n",
    "                draw_boxes(image, anchors[positive_indices], (0, 0, 255), thickness=1)\n",
    "\n",
    "            # draw annotations on the image\n",
    "            if to_draw_annotations:\n",
    "                # draw annotations in red\n",
    "                draw_annotations(image, annotations, color=(255, 0, 0), label_to_name=generator.label_to_name)\n",
    "\n",
    "                # draw regressed anchors in green to override most red annotations\n",
    "                # result is that annotations without anchors are red, with anchors are green\n",
    "                draw_boxes(image, annotations['bboxes'][max_indices[positive_indices], :], (0, 255, 0))\n",
    "\n",
    "        plt.figure(figsize=(10, 10))\n",
    "        plt.axis('off')\n",
    "        plt.imshow(image)\n",
    "        plt.show()"
   ]
  },
  {
   "cell_type": "markdown",
   "metadata": {},
   "source": [
    "## Setup Paramters"
   ]
  },
  {
   "cell_type": "code",
   "execution_count": null,
   "metadata": {},
   "outputs": [],
   "source": [
    "os.getcwd()"
   ]
  },
  {
   "cell_type": "code",
   "execution_count": null,
   "metadata": {},
   "outputs": [],
   "source": [
    "dataset_type = 'csv'\n",
    "annotations = ''  # path to training data csv file\n",
    "classes = ''  # path to class label csv file\n",
    "\n",
    "\n",
    "image_min_side = 800\n",
    "image_max_side = 1333\n",
    "config = None\n",
    "random_transform = True\n",
    "resize = True\n",
    "draw_anchors = True\n",
    "to_draw_annotations = True"
   ]
  },
  {
   "cell_type": "markdown",
   "metadata": {},
   "source": [
    "## Setup Anchors (Optional)"
   ]
  },
  {
   "cell_type": "code",
   "execution_count": null,
   "metadata": {},
   "outputs": [],
   "source": [
    "import numpy as np"
   ]
  },
  {
   "cell_type": "code",
   "execution_count": null,
   "metadata": {},
   "outputs": [],
   "source": [
    "#Customized Anchor Settings:\n",
    "sizes   = [32, 64, 128, 256, 512]\n",
    "strides = [8, 16, 32, 64, 128]\n",
    "ratios  = np.array([0.5, 1, 2], keras.backend.floatx())\n",
    "scales  = np.array([2 ** 0, 2 ** (1.0 / 3.0), 2 ** (2.0 / 3.0)])"
   ]
  },
  {
   "cell_type": "code",
   "execution_count": null,
   "metadata": {},
   "outputs": [],
   "source": [
    "config = [ratios,scales,sizes,strides] #uncomment to setup anchors"
   ]
  },
  {
   "cell_type": "markdown",
   "metadata": {},
   "source": [
    "## Run Debug"
   ]
  },
  {
   "cell_type": "code",
   "execution_count": null,
   "metadata": {},
   "outputs": [],
   "source": [
    "# make sure keras is the minimum required version\n",
    "check_keras_version()\n",
    "\n",
    "# create the generator\n",
    "generator = create_generator(dataset_type, annotations, classes, image_min_side, image_max_side, config)\n",
    "\n",
    "# optionally load anchor parameters\n",
    "anchor_params = None\n",
    "if config:\n",
    "    ratios,scales,sizes,strides = config\n",
    "    anchor_params = AnchorParameters(sizes, strides, ratios, scales)\n",
    "\n",
    "run(generator, random_transform, resize, draw_anchors, to_draw_annotations, anchor_params=anchor_params)\n"
   ]
  },
  {
   "cell_type": "markdown",
   "metadata": {},
   "source": [
    "## End"
   ]
  }
 ],
 "metadata": {
  "kernelspec": {
   "display_name": "Python 3",
   "language": "python",
   "name": "python3"
  },
  "language_info": {
   "codemirror_mode": {
    "name": "ipython",
    "version": 3
   },
   "file_extension": ".py",
   "mimetype": "text/x-python",
   "name": "python",
   "nbconvert_exporter": "python",
   "pygments_lexer": "ipython3",
   "version": "3.6.5"
  },
  "toc": {
   "base_numbering": 1,
   "nav_menu": {},
   "number_sections": false,
   "sideBar": true,
   "skip_h1_title": false,
   "title_cell": "Table of Contents",
   "title_sidebar": "Contents",
   "toc_cell": false,
   "toc_position": {},
   "toc_section_display": true,
   "toc_window_display": true
  }
 },
 "nbformat": 4,
 "nbformat_minor": 2
}
